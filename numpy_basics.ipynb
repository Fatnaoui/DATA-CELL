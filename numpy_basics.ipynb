{
  "nbformat": 4,
  "nbformat_minor": 0,
  "metadata": {
    "colab": {
      "provenance": []
    },
    "kernelspec": {
      "name": "python3",
      "display_name": "Python 3"
    },
    "language_info": {
      "name": "python"
    }
  },
  "cells": [
    {
      "cell_type": "markdown",
      "source": [
        "# DATA CELL\n",
        "## Working with numpy- for mathematical operation\n"
      ],
      "metadata": {
        "id": "ZnDfbJvTVkOJ"
      }
    },
    {
      "cell_type": "code",
      "source": [
        "import numpy as np"
      ],
      "metadata": {
        "id": "Xvrx-799VvWh"
      },
      "execution_count": 1,
      "outputs": []
    },
    {
      "cell_type": "code",
      "source": [
        "# create an array\n",
        "a=np.array([1,2,3,4,5])\n",
        "print(a)\n",
        "print(type(a))\n",
        "print(a.shape)"
      ],
      "metadata": {
        "id": "_M-_-i7tVyOc"
      },
      "execution_count": null,
      "outputs": []
    },
    {
      "cell_type": "code",
      "source": [
        "b=np.array([[1],[2],[3],[4],[5]])\n",
        "print(b)\n",
        "print(type(b))\n",
        "print(b.shape)"
      ],
      "metadata": {
        "id": "e3Uf2I5pWLKf"
      },
      "execution_count": null,
      "outputs": []
    },
    {
      "cell_type": "code",
      "source": [
        "c=np.array([[1,2],[2,3]])\n",
        "print(c)\n",
        "print(type(c))\n",
        "print(c.shape)"
      ],
      "metadata": {
        "id": "bRMtB7MyW79H"
      },
      "execution_count": null,
      "outputs": []
    },
    {
      "cell_type": "code",
      "source": [
        "# create zeros, ones\n",
        "a=np.zeros((3,3))\n",
        "print(a)\n",
        "\n",
        "b=np.ones((2,3))\n",
        "print(b)"
      ],
      "metadata": {
        "id": "VzTPXASOXTqR"
      },
      "execution_count": null,
      "outputs": []
    },
    {
      "cell_type": "code",
      "source": [
        "# array of some constant\n",
        "a=np.full((2,3),5)\n",
        "print(a)\n",
        "\n",
        "# identity\n",
        "b=np.eye(4)\n",
        "print(b)\n",
        "\n",
        "# random matrix\n",
        "c=np.random.random((4,4))\n",
        "print(c)"
      ],
      "metadata": {
        "id": "kcUEiGrcXpKp"
      },
      "execution_count": null,
      "outputs": []
    },
    {
      "cell_type": "code",
      "source": [
        "# let's say i wanna the second column\n",
        "c[:,1]"
      ],
      "metadata": {
        "id": "aUr__T0lYeKM"
      },
      "execution_count": null,
      "outputs": []
    },
    {
      "cell_type": "code",
      "source": [
        "# change the values\n",
        "c[:-1,2]=1"
      ],
      "metadata": {
        "id": "NuLsxAzMbNfp"
      },
      "execution_count": 17,
      "outputs": []
    },
    {
      "cell_type": "code",
      "source": [
        "c"
      ],
      "metadata": {
        "id": "6g80C-hYbva_"
      },
      "execution_count": null,
      "outputs": []
    },
    {
      "cell_type": "code",
      "source": [
        "# add to arrays\n",
        "a=np.array([[1,2],[3,4]])\n",
        "b=np.array([[3,4],[1,7]])\n",
        "\n",
        "print(a+b)\n",
        "print(np.add(a,b))\n",
        "print(\"\\n\")\n",
        "print(a-b)\n",
        "print(np.subtract(a,b))\n",
        "print(\"\\n\")\n",
        "print(a*b)\n",
        "print(np.multiply(a,b))\n",
        "print(\"\\n\")\n",
        "print(a/b)\n",
        "print(np.divide(a,b))\n",
        "print(\"\\n\")\n",
        "print(np.sqrt(a))"
      ],
      "metadata": {
        "id": "-rsPZ4dobwpS"
      },
      "execution_count": null,
      "outputs": []
    },
    {
      "cell_type": "code",
      "source": [
        "# matrix multiplication / dot method\n",
        "print(np.dot(a,b))"
      ],
      "metadata": {
        "id": "KxH-6lWedBRP"
      },
      "execution_count": null,
      "outputs": []
    },
    {
      "cell_type": "code",
      "source": [
        "# muliplication of vectors / scalar\n",
        "a=np.array([1,2])\n",
        "b=np.array([2,3])\n",
        "print(np.dot(a,b))"
      ],
      "metadata": {
        "id": "sZvrQK7DelFy"
      },
      "execution_count": null,
      "outputs": []
    },
    {
      "cell_type": "code",
      "source": [
        "# sum / axis\n",
        "a=np.array([[1,2],[3,4]])\n",
        "print(np.sum(a))"
      ],
      "metadata": {
        "id": "dzC2Fwc9fHiL"
      },
      "execution_count": null,
      "outputs": []
    },
    {
      "cell_type": "code",
      "source": [
        "# but if i wanna sum by column or row / axis\n",
        "print(np.sum(a,axis=0))\n",
        "print(np.sum(a,axis=1))"
      ],
      "metadata": {
        "id": "gyZlhBk8fpF9"
      },
      "execution_count": null,
      "outputs": []
    },
    {
      "cell_type": "code",
      "source": [
        "print(a)\n",
        "a=a**2\n",
        "print(a)"
      ],
      "metadata": {
        "id": "xjXjAorjf1tH"
      },
      "execution_count": null,
      "outputs": []
    },
    {
      "cell_type": "code",
      "source": [
        "# stacking of arrays\n",
        "a=np.array([[1,2],[3,4]])\n",
        "b=np.array([[5,6],[7,8]])\n",
        "np.stack((a,b),axis=0)"
      ],
      "metadata": {
        "id": "r_HdvBgIiGx9"
      },
      "execution_count": null,
      "outputs": []
    },
    {
      "cell_type": "code",
      "source": [
        "# reshape function\n",
        "a=np.array([[1,2],[3,4],[5,6]])\n",
        "a.reshape(2,3)"
      ],
      "metadata": {
        "id": "oDjryzsdifSQ"
      },
      "execution_count": null,
      "outputs": []
    },
    {
      "cell_type": "code",
      "source": [
        "# random array\n",
        "a=np.arange(10)+5\n",
        "print(a)"
      ],
      "metadata": {
        "id": "36SD2FBfluG0"
      },
      "execution_count": null,
      "outputs": []
    },
    {
      "cell_type": "code",
      "source": [
        "# shuffle\n",
        "np.random.shuffle(a)\n",
        "a"
      ],
      "metadata": {
        "id": "pumQWDZ8nEjl"
      },
      "execution_count": null,
      "outputs": []
    },
    {
      "cell_type": "code",
      "source": [
        "a=np.random.randint(2,10,4)   repetition is possible\n",
        "a"
      ],
      "metadata": {
        "id": "G0MAEdrUnQ4q"
      },
      "execution_count": null,
      "outputs": []
    },
    {
      "cell_type": "code",
      "source": [
        "element=np.random.choice(a)\n",
        "element"
      ],
      "metadata": {
        "id": "kR1J8MnFoGZM"
      },
      "execution_count": null,
      "outputs": []
    },
    {
      "cell_type": "markdown",
      "source": [
        "## some more numpy functions - statistics"
      ],
      "metadata": {
        "id": "fPexPssgoLTg"
      }
    },
    {
      "cell_type": "code",
      "source": [
        "# min\n",
        "a=np.array([[1,3,5],[2,4,6]])\n",
        "print(np.min(a))\n",
        "print(np.min(a,axis=0)) # column\n",
        "print(np.min(a,axis=1))  # row"
      ],
      "metadata": {
        "id": "bd8BiigvpP9Q"
      },
      "execution_count": null,
      "outputs": []
    },
    {
      "cell_type": "code",
      "source": [
        "# mean\n",
        "a=np.array([[1,3,5],[2,4,6]])\n",
        "print(np.mean(a))\n",
        "print(np.mean(a,axis=0)) # column\n",
        "print(np.mean(a,axis=1))  # row"
      ],
      "metadata": {
        "id": "CLf6YWbKp4dg"
      },
      "execution_count": null,
      "outputs": []
    },
    {
      "cell_type": "code",
      "source": [
        "# median\n",
        "a=np.array([1,3,5,7,9])\n",
        "np.median(a)"
      ],
      "metadata": {
        "id": "Yxv7MIuIqhiC"
      },
      "execution_count": null,
      "outputs": []
    },
    {
      "cell_type": "code",
      "source": [
        "# mean Vs average ( average need a weights)\n",
        "w1=np.array([1,2,3])\n",
        "a=np.array([4,5,6])\n",
        "w2=np.array([1,1,1])\n",
        "print(np.mean(a))\n",
        "print(np.average(a,weights=w1))\n",
        "print(np.average(a,weights=w2))"
      ],
      "metadata": {
        "id": "VjYtwr-BrH9t"
      },
      "execution_count": null,
      "outputs": []
    },
    {
      "cell_type": "code",
      "source": [
        "# standard deviation\n",
        "a=np.array([1,2,3,4])\n",
        "m=np.mean(a)\n",
        "mystd=np.sqrt(np.mean((a-m)**2))\n",
        "print(mystd)\n",
        "# inbuilt function\n",
        "print(np.std(a))\n",
        "# variance\n",
        "print(mystd**2)\n",
        "print(np.var(a))"
      ],
      "metadata": {
        "id": "Xvmm3KeAsR94"
      },
      "execution_count": null,
      "outputs": []
    },
    {
      "cell_type": "code",
      "source": [],
      "metadata": {
        "id": "fA4ys0cKtUgr"
      },
      "execution_count": null,
      "outputs": []
    }
  ]
}