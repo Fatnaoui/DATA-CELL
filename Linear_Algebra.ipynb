{
  "nbformat": 4,
  "nbformat_minor": 0,
  "metadata": {
    "colab": {
      "provenance": []
    },
    "kernelspec": {
      "name": "python3",
      "display_name": "Python 3"
    },
    "language_info": {
      "name": "python"
    }
  },
  "cells": [
    {
      "cell_type": "markdown",
      "source": [
        "# Linear Algebra\n",
        "We recommend to watch the Linear Algebra Playlist by 3Blue1Brown Youtube channel for bettervisualisation of Linear Algebra Concepts.Youtube Playlist Link - (http://cb.lk/linalgb)"
      ],
      "metadata": {
        "id": "992bycBgI1JQ"
      }
    },
    {
      "cell_type": "code",
      "source": [
        "#when i should use vector and matrice\n",
        "import numpy as np\n",
        "a=np.array([1,2,3])\n",
        "b=np.array([[1],[2],[3]])\n",
        "print(a)\n",
        "print(b)"
      ],
      "metadata": {
        "id": "n14ikPjjI5Vn",
        "colab": {
          "base_uri": "https://localhost:8080/"
        },
        "outputId": "41489ae8-a5ac-4463-aed0-24b74e9be450"
      },
      "execution_count": null,
      "outputs": [
        {
          "output_type": "stream",
          "name": "stdout",
          "text": [
            "[1 2 3]\n",
            "[[1]\n",
            " [2]\n",
            " [3]]\n"
          ]
        }
      ]
    },
    {
      "cell_type": "markdown",
      "source": [
        "for example you wanna detect the face location in an image, if there is one face you can use one vector with parameters x,y. If there more than one then you can use matrice"
      ],
      "metadata": {
        "id": "V0OAHOMii_aN"
      }
    },
    {
      "cell_type": "markdown",
      "source": [
        "images are represented with pixels (RGB)\n",
        "- (0,0,0)->black\n",
        "- (255,255,255)->white     \n",
        "- (255,0,0)->red    \n",
        "- uint unsigned int to save memory because we need just 8 bits (0-255), in machine learning, we are going t work with a huge data so we need to performe our work by saving some memory"
      ],
      "metadata": {
        "id": "bCYDRWn-jseq"
      }
    },
    {
      "cell_type": "code",
      "source": [
        "T=np.zeros((5,5,3),dtype='uint8')\n",
        "import matplotlib.pyplot as plt\n",
        "plt.imshow(T)\n",
        "plt.show()"
      ],
      "metadata": {
        "colab": {
          "base_uri": "https://localhost:8080/",
          "height": 430
        },
        "id": "jcCbrrvOkyyt",
        "outputId": "d2098346-d8ea-4c4e-bc69-6c9a38e01361"
      },
      "execution_count": null,
      "outputs": [
        {
          "output_type": "display_data",
          "data": {
            "text/plain": [
              "<Figure size 640x480 with 1 Axes>"
            ],
            "image/png": "[encoded data removed]"
          },
          "metadata": {}
        }
      ]
    },
    {
      "cell_type": "code",
      "source": [
        "T[:,:,0]=255\n",
        "plt.imshow(T)\n",
        "plt.show()"
      ],
      "metadata": {
        "colab": {
          "base_uri": "https://localhost:8080/",
          "height": 447
        },
        "id": "66_rL_8Ak8P2",
        "outputId": "fd54b52f-66c5-4fd4-b0ab-b7b5a5b3ee6c"
      },
      "execution_count": null,
      "outputs": [
        {
          "output_type": "stream",
          "name": "stderr",
          "text": [
            "WARNING:matplotlib.image:Clipping input data to the valid range for imshow with RGB data ([0..1] for floats or [0..255] for integers).\n"
          ]
        },
        {
          "output_type": "display_data",
          "data": {
            "text/plain": [
              "<Figure size 640x480 with 1 Axes>"
            ],
            "image/png": "[encoded data removed]"
          },
          "metadata": {}
        }
      ]
    },
    {
      "cell_type": "markdown",
      "source": [
        "###transpose"
      ],
      "metadata": {
        "id": "RhH_oplSmksm"
      }
    },
    {
      "cell_type": "code",
      "source": [
        "a=np.array([[1,2,3],[4,5,6]])\n",
        "a.T"
      ],
      "metadata": {
        "colab": {
          "base_uri": "https://localhost:8080/"
        },
        "id": "6msi1uLcqbJ7",
        "outputId": "730409de-8442-41b2-d5af-d81c010edb50"
      },
      "execution_count": null,
      "outputs": [
        {
          "output_type": "execute_result",
          "data": {
            "text/plain": [
              "array([[1, 4],\n",
              "       [2, 5],\n",
              "       [3, 6]])"
            ]
          },
          "metadata": {},
          "execution_count": 10
        }
      ]
    },
    {
      "cell_type": "markdown",
      "source": [
        "you can add a scalar to a matrice and add vector to a matrice"
      ],
      "metadata": {
        "id": "km0Pogx9qhkO"
      }
    },
    {
      "cell_type": "code",
      "source": [
        "x=np.array([1,2,3])\n",
        "X=np.array([\n",
        "    [1,2,3],\n",
        "    [4,5,6]\n",
        "])\n",
        "print(X+x)"
      ],
      "metadata": {
        "colab": {
          "base_uri": "https://localhost:8080/"
        },
        "id": "rQOC62nBr3t_",
        "outputId": "09588397-de3c-49aa-af05-337157a3520c"
      },
      "execution_count": null,
      "outputs": [
        {
          "output_type": "stream",
          "name": "stdout",
          "text": [
            "[[2 4 6]\n",
            " [5 7 9]]\n"
          ]
        }
      ]
    },
    {
      "cell_type": "markdown",
      "source": [
        "### Norme"
      ],
      "metadata": {
        "id": "gY-xG6MAsGoL"
      }
    },
    {
      "cell_type": "markdown",
      "source": [
        "L1,L2...."
      ],
      "metadata": {
        "id": "6rUyowQN_qaV"
      }
    },
    {
      "cell_type": "code",
      "source": [
        "a=np.array([3,4])\n",
        "lp2=np.linalg.norm(a)\n",
        "lp2"
      ],
      "metadata": {
        "colab": {
          "base_uri": "https://localhost:8080/"
        },
        "id": "faLui2Hm_l5a",
        "outputId": "bfb52e01-0c2d-4451-98a1-35f51d87ef95"
      },
      "execution_count": 13,
      "outputs": [
        {
          "output_type": "execute_result",
          "data": {
            "text/plain": [
              "5.0"
            ]
          },
          "metadata": {},
          "execution_count": 13
        }
      ]
    },
    {
      "cell_type": "code",
      "source": [
        "# you can change the order\n",
        "a=np.array([3,4])\n",
        "lp1=np.linalg.norm(a,ord=1)\n",
        "lp1"
      ],
      "metadata": {
        "colab": {
          "base_uri": "https://localhost:8080/"
        },
        "id": "b9kmOtvD_0Bq",
        "outputId": "d234c5d9-5682-4430-b39f-33d47ad0b398"
      },
      "execution_count": 14,
      "outputs": [
        {
          "output_type": "execute_result",
          "data": {
            "text/plain": [
              "7.0"
            ]
          },
          "metadata": {},
          "execution_count": 14
        }
      ]
    },
    {
      "cell_type": "code",
      "source": [
        "#lp inf\n",
        "lpinf=np.linalg.norm(a,ord=np.inf)\n",
        "lpinf"
      ],
      "metadata": {
        "colab": {
          "base_uri": "https://localhost:8080/"
        },
        "id": "IAldXA3-BCOv",
        "outputId": "d29aadb0-9738-4422-e9ea-4fcbf3f89f9f"
      },
      "execution_count": 15,
      "outputs": [
        {
          "output_type": "execute_result",
          "data": {
            "text/plain": [
              "4.0"
            ]
          },
          "metadata": {},
          "execution_count": 15
        }
      ]
    },
    {
      "cell_type": "code",
      "source": [
        "# determinat\n",
        "X=np.array([\n",
        "    [1,2],\n",
        "    [4,5]\n",
        "])\n",
        "np.linalg.det(X)"
      ],
      "metadata": {
        "colab": {
          "base_uri": "https://localhost:8080/"
        },
        "id": "b8wnsAvwBZSC",
        "outputId": "9ab6eff9-de30-4641-ecee-8fac81bb2bc9"
      },
      "execution_count": 16,
      "outputs": [
        {
          "output_type": "execute_result",
          "data": {
            "text/plain": [
              "-2.9999999999999996"
            ]
          },
          "metadata": {},
          "execution_count": 16
        }
      ]
    },
    {
      "cell_type": "code",
      "source": [
        "# inverse\n",
        "Xinv=np.linalg.inv(X)\n",
        "print(X*Xinv)\n",
        "print(np.dot(X,Xinv))"
      ],
      "metadata": {
        "colab": {
          "base_uri": "https://localhost:8080/"
        },
        "id": "0-804zTDCpXJ",
        "outputId": "af4172ff-3e78-4a5c-87b4-d3a053c69f98"
      },
      "execution_count": 17,
      "outputs": [
        {
          "output_type": "stream",
          "name": "stdout",
          "text": [
            "[[-1.66666667  1.33333333]\n",
            " [ 5.33333333 -1.66666667]]\n",
            "[[1.00000000e+00 0.00000000e+00]\n",
            " [2.22044605e-16 1.00000000e+00]]\n"
          ]
        }
      ]
    },
    {
      "cell_type": "code",
      "source": [
        "### solve a system of equation\n",
        "a=np.array([[1,2],[2,3]])\n",
        "b=np.array([3,10])\n",
        "np.linalg.solve(a,b)"
      ],
      "metadata": {
        "colab": {
          "base_uri": "https://localhost:8080/"
        },
        "id": "GbiEvitEDJYW",
        "outputId": "60b9cc8a-346f-4b24-8437-84fb98cb93f2"
      },
      "execution_count": 18,
      "outputs": [
        {
          "output_type": "execute_result",
          "data": {
            "text/plain": [
              "array([11., -4.])"
            ]
          },
          "metadata": {},
          "execution_count": 18
        }
      ]
    },
    {
      "cell_type": "code",
      "source": [],
      "metadata": {
        "id": "jUgTcoeJEzoS"
      },
      "execution_count": null,
      "outputs": []
    }
  ]
}